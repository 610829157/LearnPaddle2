{
 "cells": [
  {
   "cell_type": "code",
   "execution_count": 1,
   "metadata": {},
   "outputs": [],
   "source": [
    "import numpy as np\n",
    "import paddle\n",
    "import paddle.fluid as fluid\n",
    "import random\n",
    "import gym\n",
    "from collections import deque"
   ]
  },
  {
   "cell_type": "code",
   "execution_count": 2,
   "metadata": {},
   "outputs": [],
   "source": [
    "num_episodes = 500\n",
    "num_exploration_episodes = 100\n",
    "max_len_episode = 1000\n",
    "batch_size = 32\n",
    "learning_rate = 1e-3\n",
    "gamma = 1.\n",
    "initial_epsilon = 1.\n",
    "final_epsilon = 0.01"
   ]
  },
  {
   "cell_type": "code",
   "execution_count": 3,
   "metadata": {},
   "outputs": [],
   "source": [
    "def QNetWork(ipt):\n",
    "    fc1 = fluid.layers.fc(input=ipt, size=24, act='relu')\n",
    "    fc2 = fluid.layers.fc(input=fc1, size=24, act='relu')\n",
    "    out = fluid.layers.fc(input=fc2, size=2)\n",
    "    return out"
   ]
  },
  {
   "cell_type": "code",
   "execution_count": 4,
   "metadata": {},
   "outputs": [],
   "source": [
    "state = fluid.layers.data(name='state', shape=[4], dtype='float32')\n",
    "action = fluid.layers.data(name='action', shape=[1], dtype='int64')\n",
    "reward = fluid.layers.data(name='reward', shape=[], dtype='float32')\n",
    "next_state = fluid.layers.data(name='next_state', shape=[4], dtype='float32')\n",
    "done = fluid.layers.data(name='done', shape=[], dtype='bool')"
   ]
  },
  {
   "cell_type": "code",
   "execution_count": 5,
   "metadata": {},
   "outputs": [],
   "source": [
    "model = QNetWork(state)"
   ]
  },
  {
   "cell_type": "code",
   "execution_count": 6,
   "metadata": {},
   "outputs": [],
   "source": [
    "predict_program = fluid.default_main_program().clone()\n",
    "\n",
    "reward = fluid.layers.clip(reward, min=-1.0, max=1.0)\n",
    "\n",
    "action_onehot = fluid.layers.one_hot(action, 4)\n",
    "action_onehot = fluid.layers.cast(action_onehot, dtype='float32')\n",
    "\n",
    "pred_action_value = fluid.layers.reduce_sum(fluid.layers.elementwise_mul(action_onehot, model), dim=1)\n",
    "\n",
    "targetQ_predict_value = QNetWork(next_state)\n",
    "best_v = fluid.layers.reduce_max(targetQ_predict_value, dim=1)\n",
    "best_v.stop_gradient = True\n",
    "\n",
    "target = reward + (1.0 - fluid.layers.cast(done, dtype='float32')) * 0.99 * best_v\n",
    "cost = fluid.layers.square_error_cost(pred_action_value, target)\n",
    "avg_cost = fluid.layers.reduce_mean(cost)"
   ]
  },
  {
   "cell_type": "code",
   "execution_count": 7,
   "metadata": {},
   "outputs": [],
   "source": [
    "optimizer = fluid.optimizer.AdamOptimizer(learning_rate=0.002)\n",
    "opt = optimizer.minimize(avg_cost)"
   ]
  },
  {
   "cell_type": "code",
   "execution_count": 8,
   "metadata": {},
   "outputs": [
    {
     "data": {
      "text/plain": [
       "[]"
      ]
     },
     "execution_count": 8,
     "metadata": {},
     "output_type": "execute_result"
    }
   ],
   "source": [
    "place = fluid.CPUPlace()\n",
    "# place = fluid.CUDAPlace(0)\n",
    "exe = fluid.Executor(place)\n",
    "exe.run(fluid.default_startup_program())"
   ]
  },
  {
   "cell_type": "code",
   "execution_count": 9,
   "metadata": {},
   "outputs": [],
   "source": [
    "env = gym.make(\"CartPole-v1\")"
   ]
  },
  {
   "cell_type": "code",
   "execution_count": 12,
   "metadata": {},
   "outputs": [
    {
     "name": "stdout",
     "output_type": "stream",
     "text": [
      "(32, 4)\n",
      "(32,)\n",
      "(32,)\n",
      "(32, 4)\n",
      "(32,)\n"
     ]
    },
    {
     "ename": "EnforceNotMet",
     "evalue": "Enforce failed. Expected x_dims.size() >= 2, but received x_dims.size():1 < 2:2.\nRank of Input(X) should be at least 2. at [/paddle/paddle/fluid/operators/one_hot_op.cc:32]\nPaddlePaddle Call Stacks: \n0       0x7f5802ae86b6p paddle::platform::EnforceNotMet::EnforceNotMet(std::__exception_ptr::exception_ptr, char const*, int) + 486\n1       0x7f5802e5a727p paddle::operators::OneHotOp::InferShape(paddle::framework::InferShapeContext*) const + 2759\n2       0x7f580366514dp paddle::framework::OperatorWithKernel::RunImpl(paddle::framework::Scope const&, boost::variant<paddle::platform::CUDAPlace, paddle::platform::CPUPlace, paddle::platform::CUDAPinnedPlace, boost::detail::variant::void_, boost::detail::variant::void_, boost::detail::variant::void_, boost::detail::variant::void_, boost::detail::variant::void_, boost::detail::variant::void_, boost::detail::variant::void_, boost::detail::variant::void_, boost::detail::variant::void_, boost::detail::variant::void_, boost::detail::variant::void_, boost::detail::variant::void_, boost::detail::variant::void_, boost::detail::variant::void_, boost::detail::variant::void_, boost::detail::variant::void_, boost::detail::variant::void_> const&) const + 77\n3       0x7f580366171fp paddle::framework::OperatorBase::Run(paddle::framework::Scope const&, boost::variant<paddle::platform::CUDAPlace, paddle::platform::CPUPlace, paddle::platform::CUDAPinnedPlace, boost::detail::variant::void_, boost::detail::variant::void_, boost::detail::variant::void_, boost::detail::variant::void_, boost::detail::variant::void_, boost::detail::variant::void_, boost::detail::variant::void_, boost::detail::variant::void_, boost::detail::variant::void_, boost::detail::variant::void_, boost::detail::variant::void_, boost::detail::variant::void_, boost::detail::variant::void_, boost::detail::variant::void_, boost::detail::variant::void_, boost::detail::variant::void_, boost::detail::variant::void_> const&) + 255\n4       0x7f5802ba94eap paddle::framework::Executor::RunPreparedContext(paddle::framework::ExecutorPrepareContext*, paddle::framework::Scope*, bool, bool, bool) + 298\n5       0x7f5802ba9ee0p paddle::framework::Executor::Run(paddle::framework::ProgramDesc const&, paddle::framework::Scope*, int, bool, bool) + 128\n6       0x7f5802acff5dp\n7       0x7f5802b1ade4p pybind11::cpp_function::dispatcher(_object*, _object*, _object*) + 2596\n8             0x4e9ba7p PyCFunction_Call + 119\n9             0x53c6d5p PyEval_EvalFrameEx + 23029\n10            0x540199p\n11            0x53bd92p PyEval_EvalFrameEx + 20658\n12            0x540199p\n13            0x540e4fp PyEval_EvalCode + 31\n14            0x54a7c5p\n15            0x4e9b7fp PyCFunction_Call + 79\n16            0x5372f4p PyEval_EvalFrameEx + 1556\n17            0x4ed7d3p _PyGen_Send + 307\n18            0x53c9c5p PyEval_EvalFrameEx + 23781\n19            0x4ed7d3p _PyGen_Send + 307\n20            0x53c9c5p PyEval_EvalFrameEx + 23781\n21            0x4ed7d3p _PyGen_Send + 307\n22            0x53b9c6p PyEval_EvalFrameEx + 19686\n23            0x53b7e4p PyEval_EvalFrameEx + 19204\n24            0x53b7e4p PyEval_EvalFrameEx + 19204\n25            0x540f9bp PyEval_EvalCodeEx + 315\n26            0x4ebe37p\n27            0x5c1797p PyObject_Call + 71\n28            0x53920bp PyEval_EvalFrameEx + 9515\n29            0x5406dfp\n30            0x53c1d0p PyEval_EvalFrameEx + 21744\n31            0x5434afp\n32            0x4e9b7fp PyCFunction_Call + 79\n33            0x5372f4p PyEval_EvalFrameEx + 1556\n34            0x5406dfp\n35            0x53c1d0p PyEval_EvalFrameEx + 21744\n36            0x5434afp\n37            0x4e9b7fp PyCFunction_Call + 79\n38            0x5372f4p PyEval_EvalFrameEx + 1556\n39            0x5406dfp\n40            0x53c1d0p PyEval_EvalFrameEx + 21744\n41            0x5434afp\n42            0x4e9b7fp PyCFunction_Call + 79\n43            0x5372f4p PyEval_EvalFrameEx + 1556\n44            0x5416eap PyEval_EvalCodeEx + 2186\n45            0x4ebd23p\n46            0x5c1797p PyObject_Call + 71\n47            0x53920bp PyEval_EvalFrameEx + 9515\n48            0x4ed739p _PyGen_Send + 153\n49            0x53b9c6p PyEval_EvalFrameEx + 19686\n50            0x53b7e4p PyEval_EvalFrameEx + 19204\n51            0x5416eap PyEval_EvalCodeEx + 2186\n52            0x4ebe37p\n53            0x5c1797p PyObject_Call + 71\n54            0x53920bp PyEval_EvalFrameEx + 9515\n55            0x5416eap PyEval_EvalCodeEx + 2186\n56            0x4ebd23p\n57            0x5c1797p PyObject_Call + 71\n58            0x61ef5fp\n59            0x5c1797p PyObject_Call + 71\n60            0x53bba6p PyEval_EvalFrameEx + 20166\n61            0x540f9bp PyEval_EvalCodeEx + 315\n62            0x4ebd23p\n63            0x5c1797p PyObject_Call + 71\n64            0x53920bp PyEval_EvalFrameEx + 9515\n65            0x53b7e4p PyEval_EvalFrameEx + 19204\n66            0x53b7e4p PyEval_EvalFrameEx + 19204\n67            0x53b7e4p PyEval_EvalFrameEx + 19204\n68            0x53b7e4p PyEval_EvalFrameEx + 19204\n69            0x53b7e4p PyEval_EvalFrameEx + 19204\n70            0x540199p\n71            0x53bd92p PyEval_EvalFrameEx + 20658\n72            0x540199p\n73            0x540e4fp PyEval_EvalCode + 31\n74            0x54a7c5p\n75            0x4e9b7fp PyCFunction_Call + 79\n76            0x5372f4p PyEval_EvalFrameEx + 1556\n77            0x540199p\n78            0x53bd92p PyEval_EvalFrameEx + 20658\n79            0x540f9bp PyEval_EvalCodeEx + 315\n80            0x4ebd98p\n81            0x5c1797p PyObject_Call + 71\n82            0x63f4bdp\n83            0x63fd76p Py_Main + 1702\n84            0x4cfeb1p main + 225\n85      0x7f5851a30830p __libc_start_main + 240\n86            0x5d6049p _start + 41\n",
     "traceback": [
      "\u001b[0;31m---------------------------------------------------------------------------\u001b[0m",
      "\u001b[0;31mEnforceNotMet\u001b[0m                             Traceback (most recent call last)",
      "\u001b[0;32m<ipython-input-12-e8c71dd60f30>\u001b[0m in \u001b[0;36m<module>\u001b[0;34m\u001b[0m\n\u001b[1;32m     40\u001b[0m                          \u001b[0;34m'reward'\u001b[0m\u001b[0;34m:\u001b[0m \u001b[0mbatch_reward\u001b[0m\u001b[0;34m.\u001b[0m\u001b[0mastype\u001b[0m\u001b[0;34m(\u001b[0m\u001b[0;34m'float32'\u001b[0m\u001b[0;34m)\u001b[0m\u001b[0;34m,\u001b[0m\u001b[0;34m\u001b[0m\u001b[0m\n\u001b[1;32m     41\u001b[0m                          \u001b[0;34m'next_state'\u001b[0m\u001b[0;34m:\u001b[0m \u001b[0mbatch_next_state\u001b[0m\u001b[0;34m.\u001b[0m\u001b[0mastype\u001b[0m\u001b[0;34m(\u001b[0m\u001b[0;34m'float32'\u001b[0m\u001b[0;34m)\u001b[0m\u001b[0;34m,\u001b[0m\u001b[0;34m\u001b[0m\u001b[0m\n\u001b[0;32m---> 42\u001b[0;31m                          'done': batch_done.astype('bool')})\n\u001b[0m",
      "\u001b[0;32m/usr/local/lib/python3.5/dist-packages/paddle/fluid/executor.py\u001b[0m in \u001b[0;36mrun\u001b[0;34m(self, program, feed, fetch_list, feed_var_name, fetch_var_name, scope, return_numpy, use_program_cache)\u001b[0m\n\u001b[1;32m    468\u001b[0m \u001b[0;34m\u001b[0m\u001b[0m\n\u001b[1;32m    469\u001b[0m         \u001b[0mself\u001b[0m\u001b[0;34m.\u001b[0m\u001b[0m_feed_data\u001b[0m\u001b[0;34m(\u001b[0m\u001b[0mprogram\u001b[0m\u001b[0;34m,\u001b[0m \u001b[0mfeed\u001b[0m\u001b[0;34m,\u001b[0m \u001b[0mfeed_var_name\u001b[0m\u001b[0;34m,\u001b[0m \u001b[0mscope\u001b[0m\u001b[0;34m)\u001b[0m\u001b[0;34m\u001b[0m\u001b[0m\n\u001b[0;32m--> 470\u001b[0;31m         \u001b[0mself\u001b[0m\u001b[0;34m.\u001b[0m\u001b[0mexecutor\u001b[0m\u001b[0;34m.\u001b[0m\u001b[0mrun\u001b[0m\u001b[0;34m(\u001b[0m\u001b[0mprogram\u001b[0m\u001b[0;34m.\u001b[0m\u001b[0mdesc\u001b[0m\u001b[0;34m,\u001b[0m \u001b[0mscope\u001b[0m\u001b[0;34m,\u001b[0m \u001b[0;36m0\u001b[0m\u001b[0;34m,\u001b[0m \u001b[0;32mTrue\u001b[0m\u001b[0;34m,\u001b[0m \u001b[0;32mTrue\u001b[0m\u001b[0;34m)\u001b[0m\u001b[0;34m\u001b[0m\u001b[0m\n\u001b[0m\u001b[1;32m    471\u001b[0m         \u001b[0mouts\u001b[0m \u001b[0;34m=\u001b[0m \u001b[0mself\u001b[0m\u001b[0;34m.\u001b[0m\u001b[0m_fetch_data\u001b[0m\u001b[0;34m(\u001b[0m\u001b[0mfetch_list\u001b[0m\u001b[0;34m,\u001b[0m \u001b[0mfetch_var_name\u001b[0m\u001b[0;34m,\u001b[0m \u001b[0mscope\u001b[0m\u001b[0;34m)\u001b[0m\u001b[0;34m\u001b[0m\u001b[0m\n\u001b[1;32m    472\u001b[0m         \u001b[0;32mif\u001b[0m \u001b[0mreturn_numpy\u001b[0m\u001b[0;34m:\u001b[0m\u001b[0;34m\u001b[0m\u001b[0m\n",
      "\u001b[0;31mEnforceNotMet\u001b[0m: Enforce failed. Expected x_dims.size() >= 2, but received x_dims.size():1 < 2:2.\nRank of Input(X) should be at least 2. at [/paddle/paddle/fluid/operators/one_hot_op.cc:32]\nPaddlePaddle Call Stacks: \n0       0x7f5802ae86b6p paddle::platform::EnforceNotMet::EnforceNotMet(std::__exception_ptr::exception_ptr, char const*, int) + 486\n1       0x7f5802e5a727p paddle::operators::OneHotOp::InferShape(paddle::framework::InferShapeContext*) const + 2759\n2       0x7f580366514dp paddle::framework::OperatorWithKernel::RunImpl(paddle::framework::Scope const&, boost::variant<paddle::platform::CUDAPlace, paddle::platform::CPUPlace, paddle::platform::CUDAPinnedPlace, boost::detail::variant::void_, boost::detail::variant::void_, boost::detail::variant::void_, boost::detail::variant::void_, boost::detail::variant::void_, boost::detail::variant::void_, boost::detail::variant::void_, boost::detail::variant::void_, boost::detail::variant::void_, boost::detail::variant::void_, boost::detail::variant::void_, boost::detail::variant::void_, boost::detail::variant::void_, boost::detail::variant::void_, boost::detail::variant::void_, boost::detail::variant::void_, boost::detail::variant::void_> const&) const + 77\n3       0x7f580366171fp paddle::framework::OperatorBase::Run(paddle::framework::Scope const&, boost::variant<paddle::platform::CUDAPlace, paddle::platform::CPUPlace, paddle::platform::CUDAPinnedPlace, boost::detail::variant::void_, boost::detail::variant::void_, boost::detail::variant::void_, boost::detail::variant::void_, boost::detail::variant::void_, boost::detail::variant::void_, boost::detail::variant::void_, boost::detail::variant::void_, boost::detail::variant::void_, boost::detail::variant::void_, boost::detail::variant::void_, boost::detail::variant::void_, boost::detail::variant::void_, boost::detail::variant::void_, boost::detail::variant::void_, boost::detail::variant::void_, boost::detail::variant::void_> const&) + 255\n4       0x7f5802ba94eap paddle::framework::Executor::RunPreparedContext(paddle::framework::ExecutorPrepareContext*, paddle::framework::Scope*, bool, bool, bool) + 298\n5       0x7f5802ba9ee0p paddle::framework::Executor::Run(paddle::framework::ProgramDesc const&, paddle::framework::Scope*, int, bool, bool) + 128\n6       0x7f5802acff5dp\n7       0x7f5802b1ade4p pybind11::cpp_function::dispatcher(_object*, _object*, _object*) + 2596\n8             0x4e9ba7p PyCFunction_Call + 119\n9             0x53c6d5p PyEval_EvalFrameEx + 23029\n10            0x540199p\n11            0x53bd92p PyEval_EvalFrameEx + 20658\n12            0x540199p\n13            0x540e4fp PyEval_EvalCode + 31\n14            0x54a7c5p\n15            0x4e9b7fp PyCFunction_Call + 79\n16            0x5372f4p PyEval_EvalFrameEx + 1556\n17            0x4ed7d3p _PyGen_Send + 307\n18            0x53c9c5p PyEval_EvalFrameEx + 23781\n19            0x4ed7d3p _PyGen_Send + 307\n20            0x53c9c5p PyEval_EvalFrameEx + 23781\n21            0x4ed7d3p _PyGen_Send + 307\n22            0x53b9c6p PyEval_EvalFrameEx + 19686\n23            0x53b7e4p PyEval_EvalFrameEx + 19204\n24            0x53b7e4p PyEval_EvalFrameEx + 19204\n25            0x540f9bp PyEval_EvalCodeEx + 315\n26            0x4ebe37p\n27            0x5c1797p PyObject_Call + 71\n28            0x53920bp PyEval_EvalFrameEx + 9515\n29            0x5406dfp\n30            0x53c1d0p PyEval_EvalFrameEx + 21744\n31            0x5434afp\n32            0x4e9b7fp PyCFunction_Call + 79\n33            0x5372f4p PyEval_EvalFrameEx + 1556\n34            0x5406dfp\n35            0x53c1d0p PyEval_EvalFrameEx + 21744\n36            0x5434afp\n37            0x4e9b7fp PyCFunction_Call + 79\n38            0x5372f4p PyEval_EvalFrameEx + 1556\n39            0x5406dfp\n40            0x53c1d0p PyEval_EvalFrameEx + 21744\n41            0x5434afp\n42            0x4e9b7fp PyCFunction_Call + 79\n43            0x5372f4p PyEval_EvalFrameEx + 1556\n44            0x5416eap PyEval_EvalCodeEx + 2186\n45            0x4ebd23p\n46            0x5c1797p PyObject_Call + 71\n47            0x53920bp PyEval_EvalFrameEx + 9515\n48            0x4ed739p _PyGen_Send + 153\n49            0x53b9c6p PyEval_EvalFrameEx + 19686\n50            0x53b7e4p PyEval_EvalFrameEx + 19204\n51            0x5416eap PyEval_EvalCodeEx + 2186\n52            0x4ebe37p\n53            0x5c1797p PyObject_Call + 71\n54            0x53920bp PyEval_EvalFrameEx + 9515\n55            0x5416eap PyEval_EvalCodeEx + 2186\n56            0x4ebd23p\n57            0x5c1797p PyObject_Call + 71\n58            0x61ef5fp\n59            0x5c1797p PyObject_Call + 71\n60            0x53bba6p PyEval_EvalFrameEx + 20166\n61            0x540f9bp PyEval_EvalCodeEx + 315\n62            0x4ebd23p\n63            0x5c1797p PyObject_Call + 71\n64            0x53920bp PyEval_EvalFrameEx + 9515\n65            0x53b7e4p PyEval_EvalFrameEx + 19204\n66            0x53b7e4p PyEval_EvalFrameEx + 19204\n67            0x53b7e4p PyEval_EvalFrameEx + 19204\n68            0x53b7e4p PyEval_EvalFrameEx + 19204\n69            0x53b7e4p PyEval_EvalFrameEx + 19204\n70            0x540199p\n71            0x53bd92p PyEval_EvalFrameEx + 20658\n72            0x540199p\n73            0x540e4fp PyEval_EvalCode + 31\n74            0x54a7c5p\n75            0x4e9b7fp PyCFunction_Call + 79\n76            0x5372f4p PyEval_EvalFrameEx + 1556\n77            0x540199p\n78            0x53bd92p PyEval_EvalFrameEx + 20658\n79            0x540f9bp PyEval_EvalCodeEx + 315\n80            0x4ebd98p\n81            0x5c1797p PyObject_Call + 71\n82            0x63f4bdp\n83            0x63fd76p Py_Main + 1702\n84            0x4cfeb1p main + 225\n85      0x7f5851a30830p __libc_start_main + 240\n86            0x5d6049p _start + 41\n"
     ],
     "output_type": "error"
    }
   ],
   "source": [
    "replay_buffer = deque(maxlen=10000)\n",
    "for epsilon_id in range(num_episodes):\n",
    "    state = env.reset()\n",
    "    for t in range(100):\n",
    "#         env.render()\n",
    "        if random.random() < 0.01:\n",
    "            action = env.action_space.sample()\n",
    "        else:\n",
    "            action = exe.run(predict_program,\n",
    "                             feed={'state': np.array([state]).astype('float32')},\n",
    "                             fetch_list=[model])\n",
    "            action = np.squeeze(action, axis=0)\n",
    "            action = np.argmax(action)\n",
    "\n",
    "#         print(np.array([state]).astype('float32').shape)\n",
    "        next_state, reward, done, info = env.step(action)\n",
    "#         print(next_state, reward, done, info)\n",
    "\n",
    "        reward = -10 if done else reward\n",
    "        replay_buffer.append((state, action, reward, next_state, done))\n",
    "        state = next_state\n",
    "\n",
    "        if done:\n",
    "            break\n",
    "        \n",
    "        if len(replay_buffer) >= batch_size:\n",
    "            batch_state, batch_action, batch_reward, batch_next_state, batch_done = \\\n",
    "                [np.array(a, dtype=np.float32) for a in zip(*random.sample(replay_buffer, batch_size))]\n",
    "            \n",
    "            print(batch_state.shape)\n",
    "            print(batch_action.shape)\n",
    "            print(batch_reward.shape)\n",
    "            print(batch_next_state.shape)\n",
    "            print(batch_done.shape)\n",
    "            \n",
    "            exe.run(fluid.default_main_program(),\n",
    "                    feed={\n",
    "                         'state': batch_state.astype('float32'),\n",
    "                         'action': batch_action.astype('int64'),\n",
    "                         'reward': batch_reward.astype('float32'),\n",
    "                         'next_state': batch_next_state.astype('float32'),\n",
    "                         'done': batch_done.astype('bool')})\n"
   ]
  },
  {
   "cell_type": "code",
   "execution_count": null,
   "metadata": {},
   "outputs": [],
   "source": []
  },
  {
   "cell_type": "code",
   "execution_count": null,
   "metadata": {},
   "outputs": [],
   "source": []
  },
  {
   "cell_type": "code",
   "execution_count": null,
   "metadata": {},
   "outputs": [],
   "source": []
  }
 ],
 "metadata": {
  "kernelspec": {
   "display_name": "Python 3",
   "language": "python",
   "name": "python3"
  },
  "language_info": {
   "codemirror_mode": {
    "name": "ipython",
    "version": 3
   },
   "file_extension": ".py",
   "mimetype": "text/x-python",
   "name": "python",
   "nbconvert_exporter": "python",
   "pygments_lexer": "ipython3",
   "version": "3.5.2"
  }
 },
 "nbformat": 4,
 "nbformat_minor": 2
}
