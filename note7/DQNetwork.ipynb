{
 "cells": [
  {
   "cell_type": "code",
   "execution_count": 1,
   "metadata": {},
   "outputs": [],
   "source": [
    "import numpy as np\n",
    "import paddle\n",
    "import paddle.fluid as fluid\n",
    "import random\n",
    "import gym\n",
    "from collections import deque"
   ]
  },
  {
   "cell_type": "code",
   "execution_count": 2,
   "metadata": {},
   "outputs": [],
   "source": [
    "def QNetWork(ipt):\n",
    "    fc1 = fluid.layers.fc(input=ipt, size=1024, act='relu')\n",
    "    fc2 = fluid.layers.fc(input=fc1, size=4096, act='relu')\n",
    "    fc3 = fluid.layers.fc(input=fc2, size=4096, act='relu')\n",
    "    out = fluid.layers.fc(input=fc3, size=2)\n",
    "    return out"
   ]
  },
  {
   "cell_type": "code",
   "execution_count": 3,
   "metadata": {},
   "outputs": [],
   "source": [
    "state_data = fluid.layers.data(name='state', shape=[4], dtype='float32')\n",
    "action_data = fluid.layers.data(name='action', shape=[1], dtype='int64')\n",
    "reward_data = fluid.layers.data(name='reward', shape=[], dtype='float32')\n",
    "next_state_data = fluid.layers.data(name='next_state', shape=[4], dtype='float32')\n",
    "done_data = fluid.layers.data(name='done', shape=[], dtype='bool')"
   ]
  },
  {
   "cell_type": "code",
   "execution_count": 4,
   "metadata": {},
   "outputs": [],
   "source": [
    "batch_size = 32\n",
    "state_model = QNetWork(state_data)"
   ]
  },
  {
   "cell_type": "code",
   "execution_count": null,
   "metadata": {},
   "outputs": [],
   "source": [
    "predict_program = fluid.default_main_program().clone()\n",
    "\n",
    "action_onehot = fluid.layers.one_hot(action_data, 2)\n",
    "action_onehot = fluid.layers.cast(action_onehot, dtype='float32')\n",
    "pred_action_value = fluid.layers.reduce_sum(fluid.layers.elementwise_mul(action_onehot, state_model), dim=1)\n",
    "\n",
    "targetQ_predict_value = QNetWork(next_state_data)\n",
    "best_v = fluid.layers.reduce_max(targetQ_predict_value, dim=1)\n",
    "target = reward_data + (1.0 - best_v) * (1.0 - fluid.layers.cast(done_data, dtype='float32'))\n",
    "\n",
    "cost = fluid.layers.square_error_cost(pred_action_value, target)\n",
    "avg_cost = fluid.layers.reduce_mean(cost)"
   ]
  },
  {
   "cell_type": "code",
   "execution_count": null,
   "metadata": {},
   "outputs": [],
   "source": [
    "optimizer = fluid.optimizer.AdamOptimizer(learning_rate=1e-3)\n",
    "opt = optimizer.minimize(avg_cost)"
   ]
  },
  {
   "cell_type": "code",
   "execution_count": null,
   "metadata": {},
   "outputs": [
    {
     "data": {
      "text/plain": [
       "[]"
      ]
     },
     "execution_count": 7,
     "metadata": {},
     "output_type": "execute_result"
    }
   ],
   "source": [
    "place = fluid.CPUPlace()\n",
    "exe = fluid.Executor(place)\n",
    "exe.run(fluid.default_startup_program())"
   ]
  },
  {
   "cell_type": "code",
   "execution_count": null,
   "metadata": {},
   "outputs": [],
   "source": [
    "env = gym.make(\"CartPole-v1\")"
   ]
  },
  {
   "cell_type": "code",
   "execution_count": null,
   "metadata": {},
   "outputs": [
    {
     "name": "stdout",
     "output_type": "stream",
     "text": [
      "分数： 8\n",
      "分数： 8\n",
      "分数： 8\n",
      "分数： 8\n",
      "分数： 9\n",
      "分数： 10\n",
      "分数： 41\n",
      "分数： 53\n"
     ]
    }
   ],
   "source": [
    "replay_buffer = deque(maxlen=10000)\n",
    "for pass_id in range(500):\n",
    "    state = env.reset()\n",
    "    for t in range(490):\n",
    "#         env.render()\n",
    "        if random.random() < 0.01:\n",
    "            state = np.expand_dims(state, axis=0)\n",
    "            action = env.action_space.sample()\n",
    "        else:\n",
    "            state = np.expand_dims(state, axis=0)\n",
    "            action = exe.run(predict_program,\n",
    "                             feed={'state': state.astype('float32')},\n",
    "                             fetch_list=[state_model])[0]\n",
    "            action = np.squeeze(action, axis=0)\n",
    "            action = np.argmax(action)\n",
    "\n",
    "        next_state, reward, done, info = env.step(action)\n",
    "\n",
    "        reward = -5 if done else reward\n",
    "        replay_buffer.append((state, action, reward, next_state, done))\n",
    "        state = next_state\n",
    "\n",
    "        if done:\n",
    "            print('分数：', t)\n",
    "            break\n",
    "        \n",
    "        if len(replay_buffer) >= batch_size:\n",
    "            batch_state, batch_action, batch_reward, batch_next_state, batch_done = \\\n",
    "                [np.array(a, dtype=np.float32) for a in zip(*random.sample(replay_buffer, batch_size))]\n",
    "            \n",
    "            batch_action = np.expand_dims(batch_action, -1)\n",
    "            batch_next_state = np.expand_dims(batch_next_state, axis=1)\n",
    "            \n",
    "            exe.run(fluid.default_main_program(),\n",
    "                    feed={'state': batch_state.astype('float32'),\n",
    "                          'action': batch_action.astype('int64'),\n",
    "                          'reward': batch_reward,\n",
    "                          'next_state': batch_next_state.astype('float32'),\n",
    "                          'done': batch_done})\n"
   ]
  },
  {
   "cell_type": "code",
   "execution_count": null,
   "metadata": {},
   "outputs": [],
   "source": []
  },
  {
   "cell_type": "code",
   "execution_count": null,
   "metadata": {},
   "outputs": [],
   "source": []
  }
 ],
 "metadata": {
  "kernelspec": {
   "display_name": "Python 3",
   "language": "python",
   "name": "python3"
  },
  "language_info": {
   "codemirror_mode": {
    "name": "ipython",
    "version": 3
   },
   "file_extension": ".py",
   "mimetype": "text/x-python",
   "name": "python",
   "nbconvert_exporter": "python",
   "pygments_lexer": "ipython3",
   "version": "3.5.2"
  }
 },
 "nbformat": 4,
 "nbformat_minor": 2
}
