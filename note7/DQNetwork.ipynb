{
 "cells": [
  {
   "cell_type": "code",
   "execution_count": 1,
   "metadata": {},
   "outputs": [],
   "source": [
    "import numpy as np\n",
    "import paddle\n",
    "import paddle.fluid as fluid\n",
    "import random\n",
    "import gym\n",
    "from collections import deque"
   ]
  },
  {
   "cell_type": "code",
   "execution_count": 2,
   "metadata": {},
   "outputs": [],
   "source": [
    "num_episodes = 500\n",
    "num_exploration_episodes = 100\n",
    "max_len_episode = 1000\n",
    "batch_size = 32\n",
    "learning_rate = 1e-3\n",
    "gamma = 1.\n",
    "initial_epsilon = 1.\n",
    "final_epsilon = 0.01"
   ]
  },
  {
   "cell_type": "code",
   "execution_count": 3,
   "metadata": {},
   "outputs": [],
   "source": [
    "def QNetWork(ipt):\n",
    "    fc1 = fluid.layers.fc(input=ipt, size=24, act='relu')\n",
    "    fc2 = fluid.layers.fc(input=fc1, size=24, act='relu')\n",
    "    out = fluid.layers.fc(input=fc2, size=2)\n",
    "    return out"
   ]
  },
  {
   "cell_type": "code",
   "execution_count": 4,
   "metadata": {},
   "outputs": [],
   "source": [
    "state = fluid.layers.data(name='state', shape=[4], dtype='float32')\n",
    "action = fluid.layers.data(name='action', shape=[1], dtype='int64')\n",
    "reward = fluid.layers.data(name='reward', shape=[], dtype='float32')\n",
    "next_state = fluid.layers.data(name='next_state', shape=[4], dtype='float32')\n",
    "done = fluid.layers.data(name='done', shape=[], dtype='bool')"
   ]
  },
  {
   "cell_type": "code",
   "execution_count": 5,
   "metadata": {},
   "outputs": [],
   "source": [
    "model = QNetWork(state)"
   ]
  },
  {
   "cell_type": "code",
   "execution_count": 6,
   "metadata": {},
   "outputs": [],
   "source": [
    "predict_program = fluid.default_main_program().clone()\n",
    "\n",
    "reward = fluid.layers.clip(reward, min=-1.0, max=1.0)\n",
    "\n",
    "action_onehot = fluid.layers.one_hot(action, 4)\n",
    "action_onehot = fluid.layers.cast(action_onehot, dtype='float32')\n",
    "\n",
    "pred_action_value = fluid.layers.reduce_sum(fluid.layers.elementwise_mul(action_onehot, model), dim=1)\n",
    "\n",
    "targetQ_predict_value = QNetWork(next_state)\n",
    "best_v = fluid.layers.reduce_max(targetQ_predict_value, dim=1)\n",
    "best_v.stop_gradient = True\n",
    "\n",
    "target = reward + (1.0 - fluid.layers.cast(done, dtype='float32')) * 0.99 * best_v\n",
    "cost = fluid.layers.square_error_cost(pred_action_value, target)\n",
    "avg_cost = fluid.layers.reduce_mean(cost)"
   ]
  },
  {
   "cell_type": "code",
   "execution_count": 7,
   "metadata": {},
   "outputs": [],
   "source": [
    "optimizer = fluid.optimizer.AdamOptimizer(learning_rate=0.002)\n",
    "opt = optimizer.minimize(avg_cost)"
   ]
  },
  {
   "cell_type": "code",
   "execution_count": 8,
   "metadata": {},
   "outputs": [
    {
     "data": {
      "text/plain": [
       "[]"
      ]
     },
     "execution_count": 8,
     "metadata": {},
     "output_type": "execute_result"
    }
   ],
   "source": [
    "place = fluid.CPUPlace()\n",
    "# place = fluid.CUDAPlace(0)\n",
    "exe = fluid.Executor(place)\n",
    "exe.run(fluid.default_startup_program())"
   ]
  },
  {
   "cell_type": "code",
   "execution_count": 9,
   "metadata": {},
   "outputs": [],
   "source": [
    "env = gym.make(\"CartPole-v1\")"
   ]
  },
  {
   "cell_type": "code",
   "execution_count": 13,
   "metadata": {},
   "outputs": [
    {
     "name": "stdout",
     "output_type": "stream",
     "text": [
      "(32, 1, 4)\n",
      "(32, 1)\n",
      "(32,)\n",
      "(32, 1, 4)\n",
      "(32,)\n"
     ]
    },
    {
     "ename": "EnforceNotMet",
     "evalue": "Enforce failed. Expected x_dims[i + axis] == y_dims[i], but received x_dims[i + axis]:4 != y_dims[i]:2.\nBroadcast dimension mismatch. at [/paddle/paddle/fluid/operators/elementwise_op_function.h:63]\nPaddlePaddle Call Stacks: \n0       0x7f2cebed86b6p paddle::platform::EnforceNotMet::EnforceNotMet(std::__exception_ptr::exception_ptr, char const*, int) + 486\n1       0x7f2cec101aa7p paddle::operators::get_mid_dims(paddle::framework::DDim const&, paddle::framework::DDim const&, int, int*, int*, int*) + 487\n2       0x7f2cec21eb48p void paddle::operators::ElementwiseComputeEx<paddle::operators::MulFunctor<float>, paddle::platform::CPUDeviceContext, float, float>(paddle::framework::ExecutionContext const&, paddle::framework::Tensor const*, paddle::framework::Tensor const*, int, paddle::operators::MulFunctor<float>, paddle::framework::Tensor*) + 952\n3       0x7f2cec3a5093p paddle::operators::ElementwiseMulKernel<paddle::platform::CPUDeviceContext, float>::Compute(paddle::framework::ExecutionContext const&) const + 355\n4       0x7f2cec3a5153p std::_Function_handler<void (paddle::framework::ExecutionContext const&), paddle::framework::OpKernelRegistrarFunctor<paddle::platform::CPUPlace, false, 0ul, paddle::operators::ElementwiseMulKernel<paddle::platform::CPUDeviceContext, float>, paddle::operators::ElementwiseMulKernel<paddle::platform::CPUDeviceContext, double>, paddle::operators::ElementwiseMulKernel<paddle::platform::CPUDeviceContext, int>, paddle::operators::ElementwiseMulKernel<paddle::platform::CPUDeviceContext, long> >::operator()(char const*, char const*) const::{lambda(paddle::framework::ExecutionContext const&)#1}>::_M_invoke(std::_Any_data const&, paddle::framework::ExecutionContext const&) + 35\n5       0x7f2ceca552ecp paddle::framework::OperatorWithKernel::RunImpl(paddle::framework::Scope const&, boost::variant<paddle::platform::CUDAPlace, paddle::platform::CPUPlace, paddle::platform::CUDAPinnedPlace, boost::detail::variant::void_, boost::detail::variant::void_, boost::detail::variant::void_, boost::detail::variant::void_, boost::detail::variant::void_, boost::detail::variant::void_, boost::detail::variant::void_, boost::detail::variant::void_, boost::detail::variant::void_, boost::detail::variant::void_, boost::detail::variant::void_, boost::detail::variant::void_, boost::detail::variant::void_, boost::detail::variant::void_, boost::detail::variant::void_, boost::detail::variant::void_, boost::detail::variant::void_> const&) const + 492\n6       0x7f2ceca5171fp paddle::framework::OperatorBase::Run(paddle::framework::Scope const&, boost::variant<paddle::platform::CUDAPlace, paddle::platform::CPUPlace, paddle::platform::CUDAPinnedPlace, boost::detail::variant::void_, boost::detail::variant::void_, boost::detail::variant::void_, boost::detail::variant::void_, boost::detail::variant::void_, boost::detail::variant::void_, boost::detail::variant::void_, boost::detail::variant::void_, boost::detail::variant::void_, boost::detail::variant::void_, boost::detail::variant::void_, boost::detail::variant::void_, boost::detail::variant::void_, boost::detail::variant::void_, boost::detail::variant::void_, boost::detail::variant::void_, boost::detail::variant::void_> const&) + 255\n7       0x7f2cebf994eap paddle::framework::Executor::RunPreparedContext(paddle::framework::ExecutorPrepareContext*, paddle::framework::Scope*, bool, bool, bool) + 298\n8       0x7f2cebf99ee0p paddle::framework::Executor::Run(paddle::framework::ProgramDesc const&, paddle::framework::Scope*, int, bool, bool) + 128\n9       0x7f2cebebff5dp\n10      0x7f2cebf0ade4p pybind11::cpp_function::dispatcher(_object*, _object*, _object*) + 2596\n11            0x4e9ba7p PyCFunction_Call + 119\n12            0x53c6d5p PyEval_EvalFrameEx + 23029\n13            0x540199p\n14            0x53bd92p PyEval_EvalFrameEx + 20658\n15            0x540199p\n16            0x540e4fp PyEval_EvalCode + 31\n17            0x54a7c5p\n18            0x4e9b7fp PyCFunction_Call + 79\n19            0x5372f4p PyEval_EvalFrameEx + 1556\n20            0x4ed7d3p _PyGen_Send + 307\n21            0x53c9c5p PyEval_EvalFrameEx + 23781\n22            0x4ed7d3p _PyGen_Send + 307\n23            0x53c9c5p PyEval_EvalFrameEx + 23781\n24            0x4ed7d3p _PyGen_Send + 307\n25            0x53b9c6p PyEval_EvalFrameEx + 19686\n26            0x53b7e4p PyEval_EvalFrameEx + 19204\n27            0x53b7e4p PyEval_EvalFrameEx + 19204\n28            0x540f9bp PyEval_EvalCodeEx + 315\n29            0x4ebe37p\n30            0x5c1797p PyObject_Call + 71\n31            0x53920bp PyEval_EvalFrameEx + 9515\n32            0x5406dfp\n33            0x53c1d0p PyEval_EvalFrameEx + 21744\n34            0x5434afp\n35            0x4e9b7fp PyCFunction_Call + 79\n36            0x5372f4p PyEval_EvalFrameEx + 1556\n37            0x5406dfp\n38            0x53c1d0p PyEval_EvalFrameEx + 21744\n39            0x5434afp\n40            0x4e9b7fp PyCFunction_Call + 79\n41            0x5372f4p PyEval_EvalFrameEx + 1556\n42            0x5406dfp\n43            0x53c1d0p PyEval_EvalFrameEx + 21744\n44            0x5434afp\n45            0x4e9b7fp PyCFunction_Call + 79\n46            0x5372f4p PyEval_EvalFrameEx + 1556\n47            0x5416eap PyEval_EvalCodeEx + 2186\n48            0x4ebd23p\n49            0x5c1797p PyObject_Call + 71\n50            0x53920bp PyEval_EvalFrameEx + 9515\n51            0x4ed739p _PyGen_Send + 153\n52            0x53b9c6p PyEval_EvalFrameEx + 19686\n53            0x53b7e4p PyEval_EvalFrameEx + 19204\n54            0x5416eap PyEval_EvalCodeEx + 2186\n55            0x4ebe37p\n56            0x5c1797p PyObject_Call + 71\n57            0x53920bp PyEval_EvalFrameEx + 9515\n58            0x5416eap PyEval_EvalCodeEx + 2186\n59            0x4ebd23p\n60            0x5c1797p PyObject_Call + 71\n61            0x61ef5fp\n62            0x5c1797p PyObject_Call + 71\n63            0x53bba6p PyEval_EvalFrameEx + 20166\n64            0x540f9bp PyEval_EvalCodeEx + 315\n65            0x4ebd23p\n66            0x5c1797p PyObject_Call + 71\n67            0x53920bp PyEval_EvalFrameEx + 9515\n68            0x53b7e4p PyEval_EvalFrameEx + 19204\n69            0x53b7e4p PyEval_EvalFrameEx + 19204\n70            0x53b7e4p PyEval_EvalFrameEx + 19204\n71            0x53b7e4p PyEval_EvalFrameEx + 19204\n72            0x53b7e4p PyEval_EvalFrameEx + 19204\n73            0x540199p\n74            0x53bd92p PyEval_EvalFrameEx + 20658\n75            0x540199p\n76            0x540e4fp PyEval_EvalCode + 31\n77            0x54a7c5p\n78            0x4e9b7fp PyCFunction_Call + 79\n79            0x5372f4p PyEval_EvalFrameEx + 1556\n80            0x540199p\n81            0x53bd92p PyEval_EvalFrameEx + 20658\n82            0x540f9bp PyEval_EvalCodeEx + 315\n83            0x4ebd98p\n84            0x5c1797p PyObject_Call + 71\n85            0x63f4bdp\n86            0x63fd76p Py_Main + 1702\n87            0x4cfeb1p main + 225\n88      0x7f2d3ae30830p __libc_start_main + 240\n89            0x5d6049p _start + 41\n",
     "traceback": [
      "\u001b[0;31m---------------------------------------------------------------------------\u001b[0m",
      "\u001b[0;31mEnforceNotMet\u001b[0m                             Traceback (most recent call last)",
      "\u001b[0;32m<ipython-input-13-b31f66454729>\u001b[0m in \u001b[0;36m<module>\u001b[0;34m\u001b[0m\n\u001b[1;32m     44\u001b[0m                          \u001b[0;34m'reward'\u001b[0m\u001b[0;34m:\u001b[0m \u001b[0mbatch_reward\u001b[0m\u001b[0;34m,\u001b[0m\u001b[0;34m\u001b[0m\u001b[0m\n\u001b[1;32m     45\u001b[0m                          \u001b[0;34m'next_state'\u001b[0m\u001b[0;34m:\u001b[0m \u001b[0mbatch_next_state\u001b[0m\u001b[0;34m.\u001b[0m\u001b[0mastype\u001b[0m\u001b[0;34m(\u001b[0m\u001b[0;34m'float32'\u001b[0m\u001b[0;34m)\u001b[0m\u001b[0;34m,\u001b[0m\u001b[0;34m\u001b[0m\u001b[0m\n\u001b[0;32m---> 46\u001b[0;31m                          'done': batch_done})\n\u001b[0m",
      "\u001b[0;32m/usr/local/lib/python3.5/dist-packages/paddle/fluid/executor.py\u001b[0m in \u001b[0;36mrun\u001b[0;34m(self, program, feed, fetch_list, feed_var_name, fetch_var_name, scope, return_numpy, use_program_cache)\u001b[0m\n\u001b[1;32m    468\u001b[0m \u001b[0;34m\u001b[0m\u001b[0m\n\u001b[1;32m    469\u001b[0m         \u001b[0mself\u001b[0m\u001b[0;34m.\u001b[0m\u001b[0m_feed_data\u001b[0m\u001b[0;34m(\u001b[0m\u001b[0mprogram\u001b[0m\u001b[0;34m,\u001b[0m \u001b[0mfeed\u001b[0m\u001b[0;34m,\u001b[0m \u001b[0mfeed_var_name\u001b[0m\u001b[0;34m,\u001b[0m \u001b[0mscope\u001b[0m\u001b[0;34m)\u001b[0m\u001b[0;34m\u001b[0m\u001b[0m\n\u001b[0;32m--> 470\u001b[0;31m         \u001b[0mself\u001b[0m\u001b[0;34m.\u001b[0m\u001b[0mexecutor\u001b[0m\u001b[0;34m.\u001b[0m\u001b[0mrun\u001b[0m\u001b[0;34m(\u001b[0m\u001b[0mprogram\u001b[0m\u001b[0;34m.\u001b[0m\u001b[0mdesc\u001b[0m\u001b[0;34m,\u001b[0m \u001b[0mscope\u001b[0m\u001b[0;34m,\u001b[0m \u001b[0;36m0\u001b[0m\u001b[0;34m,\u001b[0m \u001b[0;32mTrue\u001b[0m\u001b[0;34m,\u001b[0m \u001b[0;32mTrue\u001b[0m\u001b[0;34m)\u001b[0m\u001b[0;34m\u001b[0m\u001b[0m\n\u001b[0m\u001b[1;32m    471\u001b[0m         \u001b[0mouts\u001b[0m \u001b[0;34m=\u001b[0m \u001b[0mself\u001b[0m\u001b[0;34m.\u001b[0m\u001b[0m_fetch_data\u001b[0m\u001b[0;34m(\u001b[0m\u001b[0mfetch_list\u001b[0m\u001b[0;34m,\u001b[0m \u001b[0mfetch_var_name\u001b[0m\u001b[0;34m,\u001b[0m \u001b[0mscope\u001b[0m\u001b[0;34m)\u001b[0m\u001b[0;34m\u001b[0m\u001b[0m\n\u001b[1;32m    472\u001b[0m         \u001b[0;32mif\u001b[0m \u001b[0mreturn_numpy\u001b[0m\u001b[0;34m:\u001b[0m\u001b[0;34m\u001b[0m\u001b[0m\n",
      "\u001b[0;31mEnforceNotMet\u001b[0m: Enforce failed. Expected x_dims[i + axis] == y_dims[i], but received x_dims[i + axis]:4 != y_dims[i]:2.\nBroadcast dimension mismatch. at [/paddle/paddle/fluid/operators/elementwise_op_function.h:63]\nPaddlePaddle Call Stacks: \n0       0x7f2cebed86b6p paddle::platform::EnforceNotMet::EnforceNotMet(std::__exception_ptr::exception_ptr, char const*, int) + 486\n1       0x7f2cec101aa7p paddle::operators::get_mid_dims(paddle::framework::DDim const&, paddle::framework::DDim const&, int, int*, int*, int*) + 487\n2       0x7f2cec21eb48p void paddle::operators::ElementwiseComputeEx<paddle::operators::MulFunctor<float>, paddle::platform::CPUDeviceContext, float, float>(paddle::framework::ExecutionContext const&, paddle::framework::Tensor const*, paddle::framework::Tensor const*, int, paddle::operators::MulFunctor<float>, paddle::framework::Tensor*) + 952\n3       0x7f2cec3a5093p paddle::operators::ElementwiseMulKernel<paddle::platform::CPUDeviceContext, float>::Compute(paddle::framework::ExecutionContext const&) const + 355\n4       0x7f2cec3a5153p std::_Function_handler<void (paddle::framework::ExecutionContext const&), paddle::framework::OpKernelRegistrarFunctor<paddle::platform::CPUPlace, false, 0ul, paddle::operators::ElementwiseMulKernel<paddle::platform::CPUDeviceContext, float>, paddle::operators::ElementwiseMulKernel<paddle::platform::CPUDeviceContext, double>, paddle::operators::ElementwiseMulKernel<paddle::platform::CPUDeviceContext, int>, paddle::operators::ElementwiseMulKernel<paddle::platform::CPUDeviceContext, long> >::operator()(char const*, char const*) const::{lambda(paddle::framework::ExecutionContext const&)#1}>::_M_invoke(std::_Any_data const&, paddle::framework::ExecutionContext const&) + 35\n5       0x7f2ceca552ecp paddle::framework::OperatorWithKernel::RunImpl(paddle::framework::Scope const&, boost::variant<paddle::platform::CUDAPlace, paddle::platform::CPUPlace, paddle::platform::CUDAPinnedPlace, boost::detail::variant::void_, boost::detail::variant::void_, boost::detail::variant::void_, boost::detail::variant::void_, boost::detail::variant::void_, boost::detail::variant::void_, boost::detail::variant::void_, boost::detail::variant::void_, boost::detail::variant::void_, boost::detail::variant::void_, boost::detail::variant::void_, boost::detail::variant::void_, boost::detail::variant::void_, boost::detail::variant::void_, boost::detail::variant::void_, boost::detail::variant::void_, boost::detail::variant::void_> const&) const + 492\n6       0x7f2ceca5171fp paddle::framework::OperatorBase::Run(paddle::framework::Scope const&, boost::variant<paddle::platform::CUDAPlace, paddle::platform::CPUPlace, paddle::platform::CUDAPinnedPlace, boost::detail::variant::void_, boost::detail::variant::void_, boost::detail::variant::void_, boost::detail::variant::void_, boost::detail::variant::void_, boost::detail::variant::void_, boost::detail::variant::void_, boost::detail::variant::void_, boost::detail::variant::void_, boost::detail::variant::void_, boost::detail::variant::void_, boost::detail::variant::void_, boost::detail::variant::void_, boost::detail::variant::void_, boost::detail::variant::void_, boost::detail::variant::void_, boost::detail::variant::void_> const&) + 255\n7       0x7f2cebf994eap paddle::framework::Executor::RunPreparedContext(paddle::framework::ExecutorPrepareContext*, paddle::framework::Scope*, bool, bool, bool) + 298\n8       0x7f2cebf99ee0p paddle::framework::Executor::Run(paddle::framework::ProgramDesc const&, paddle::framework::Scope*, int, bool, bool) + 128\n9       0x7f2cebebff5dp\n10      0x7f2cebf0ade4p pybind11::cpp_function::dispatcher(_object*, _object*, _object*) + 2596\n11            0x4e9ba7p PyCFunction_Call + 119\n12            0x53c6d5p PyEval_EvalFrameEx + 23029\n13            0x540199p\n14            0x53bd92p PyEval_EvalFrameEx + 20658\n15            0x540199p\n16            0x540e4fp PyEval_EvalCode + 31\n17            0x54a7c5p\n18            0x4e9b7fp PyCFunction_Call + 79\n19            0x5372f4p PyEval_EvalFrameEx + 1556\n20            0x4ed7d3p _PyGen_Send + 307\n21            0x53c9c5p PyEval_EvalFrameEx + 23781\n22            0x4ed7d3p _PyGen_Send + 307\n23            0x53c9c5p PyEval_EvalFrameEx + 23781\n24            0x4ed7d3p _PyGen_Send + 307\n25            0x53b9c6p PyEval_EvalFrameEx + 19686\n26            0x53b7e4p PyEval_EvalFrameEx + 19204\n27            0x53b7e4p PyEval_EvalFrameEx + 19204\n28            0x540f9bp PyEval_EvalCodeEx + 315\n29            0x4ebe37p\n30            0x5c1797p PyObject_Call + 71\n31            0x53920bp PyEval_EvalFrameEx + 9515\n32            0x5406dfp\n33            0x53c1d0p PyEval_EvalFrameEx + 21744\n34            0x5434afp\n35            0x4e9b7fp PyCFunction_Call + 79\n36            0x5372f4p PyEval_EvalFrameEx + 1556\n37            0x5406dfp\n38            0x53c1d0p PyEval_EvalFrameEx + 21744\n39            0x5434afp\n40            0x4e9b7fp PyCFunction_Call + 79\n41            0x5372f4p PyEval_EvalFrameEx + 1556\n42            0x5406dfp\n43            0x53c1d0p PyEval_EvalFrameEx + 21744\n44            0x5434afp\n45            0x4e9b7fp PyCFunction_Call + 79\n46            0x5372f4p PyEval_EvalFrameEx + 1556\n47            0x5416eap PyEval_EvalCodeEx + 2186\n48            0x4ebd23p\n49            0x5c1797p PyObject_Call + 71\n50            0x53920bp PyEval_EvalFrameEx + 9515\n51            0x4ed739p _PyGen_Send + 153\n52            0x53b9c6p PyEval_EvalFrameEx + 19686\n53            0x53b7e4p PyEval_EvalFrameEx + 19204\n54            0x5416eap PyEval_EvalCodeEx + 2186\n55            0x4ebe37p\n56            0x5c1797p PyObject_Call + 71\n57            0x53920bp PyEval_EvalFrameEx + 9515\n58            0x5416eap PyEval_EvalCodeEx + 2186\n59            0x4ebd23p\n60            0x5c1797p PyObject_Call + 71\n61            0x61ef5fp\n62            0x5c1797p PyObject_Call + 71\n63            0x53bba6p PyEval_EvalFrameEx + 20166\n64            0x540f9bp PyEval_EvalCodeEx + 315\n65            0x4ebd23p\n66            0x5c1797p PyObject_Call + 71\n67            0x53920bp PyEval_EvalFrameEx + 9515\n68            0x53b7e4p PyEval_EvalFrameEx + 19204\n69            0x53b7e4p PyEval_EvalFrameEx + 19204\n70            0x53b7e4p PyEval_EvalFrameEx + 19204\n71            0x53b7e4p PyEval_EvalFrameEx + 19204\n72            0x53b7e4p PyEval_EvalFrameEx + 19204\n73            0x540199p\n74            0x53bd92p PyEval_EvalFrameEx + 20658\n75            0x540199p\n76            0x540e4fp PyEval_EvalCode + 31\n77            0x54a7c5p\n78            0x4e9b7fp PyCFunction_Call + 79\n79            0x5372f4p PyEval_EvalFrameEx + 1556\n80            0x540199p\n81            0x53bd92p PyEval_EvalFrameEx + 20658\n82            0x540f9bp PyEval_EvalCodeEx + 315\n83            0x4ebd98p\n84            0x5c1797p PyObject_Call + 71\n85            0x63f4bdp\n86            0x63fd76p Py_Main + 1702\n87            0x4cfeb1p main + 225\n88      0x7f2d3ae30830p __libc_start_main + 240\n89            0x5d6049p _start + 41\n"
     ],
     "output_type": "error"
    }
   ],
   "source": [
    "replay_buffer = deque(maxlen=10000)\n",
    "for epsilon_id in range(num_episodes):\n",
    "    state = env.reset()\n",
    "    for t in range(100):\n",
    "#         env.render()\n",
    "        if random.random() < 0.01:\n",
    "            action = env.action_space.sample()\n",
    "        else:\n",
    "            state = np.expand_dims(state, axis=0)\n",
    "            action = exe.run(predict_program,\n",
    "                             feed={'state': state.astype('float32')},\n",
    "                             fetch_list=[model])\n",
    "            action = np.squeeze(action, axis=0)\n",
    "            action = np.argmax(action)\n",
    "\n",
    "#         print(state.astype('float32').shape)\n",
    "        next_state, reward, done, info = env.step(action)\n",
    "#         print(next_state, reward, done, info)\n",
    "\n",
    "        reward = -10 if done else reward\n",
    "        replay_buffer.append((state, action, reward, next_state, done))\n",
    "        state = next_state\n",
    "\n",
    "        if done:\n",
    "            break\n",
    "        \n",
    "        if len(replay_buffer) >= batch_size:\n",
    "            batch_state, batch_action, batch_reward, batch_next_state, batch_done = \\\n",
    "                [np.array(a, dtype=np.float32) for a in zip(*random.sample(replay_buffer, batch_size))]\n",
    "            \n",
    "            batch_action = np.expand_dims(batch_action, -1)\n",
    "            batch_next_state = np.expand_dims(batch_next_state, axis=1)\n",
    "            \n",
    "            print(batch_state.shape)\n",
    "            print(batch_action.shape)\n",
    "            print(batch_reward.shape)\n",
    "            print(batch_next_state.shape)\n",
    "            print(batch_done.shape)\n",
    "            \n",
    "            exe.run(fluid.default_main_program(),\n",
    "                    feed={\n",
    "                         'state': batch_state.astype('float32'),\n",
    "                         'action': batch_action.astype('int64'),\n",
    "                         'reward': batch_reward,\n",
    "                         'next_state': batch_next_state.astype('float32'),\n",
    "                         'done': batch_done})\n"
   ]
  },
  {
   "cell_type": "code",
   "execution_count": null,
   "metadata": {},
   "outputs": [],
   "source": []
  },
  {
   "cell_type": "code",
   "execution_count": null,
   "metadata": {},
   "outputs": [],
   "source": []
  },
  {
   "cell_type": "code",
   "execution_count": null,
   "metadata": {},
   "outputs": [],
   "source": []
  }
 ],
 "metadata": {
  "kernelspec": {
   "display_name": "Python 3",
   "language": "python",
   "name": "python3"
  },
  "language_info": {
   "codemirror_mode": {
    "name": "ipython",
    "version": 3
   },
   "file_extension": ".py",
   "mimetype": "text/x-python",
   "name": "python",
   "nbconvert_exporter": "python",
   "pygments_lexer": "ipython3",
   "version": "3.5.2"
  }
 },
 "nbformat": 4,
 "nbformat_minor": 2
}
